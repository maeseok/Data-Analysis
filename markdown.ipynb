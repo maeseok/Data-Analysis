{
 "cells": [
  {
   "cell_type": "code",
   "execution_count": null,
   "metadata": {},
   "outputs": [],
   "source": []
  },
  {
   "cell_type": "markdown",
   "metadata": {},
   "source": [
    "#데이터 분석 보고서\n",
    "`import pandas as pd\n",
    "df=pd.read_csv('mp.csv')\n",
    "df['drv'].value_counts()`\n",
    "\n",
    "`import seaborn as sns\n",
    "sns.countplot(data=df, x='drv')`"
   ]
  },
  {
   "cell_type": "markdown",
   "metadata": {},
   "source": []
  }
 ],
 "metadata": {
  "kernelspec": {
   "display_name": "Python 3.10.7 64-bit",
   "language": "python",
   "name": "python3"
  },
  "language_info": {
   "name": "python",
   "version": "3.10.7"
  },
  "orig_nbformat": 4,
  "vscode": {
   "interpreter": {
    "hash": "e726dfcfd2aa7c89c8dbc4c560c1e1f3c16eb0fa359096469343a30c0228cb32"
   }
  }
 },
 "nbformat": 4,
 "nbformat_minor": 2
}
