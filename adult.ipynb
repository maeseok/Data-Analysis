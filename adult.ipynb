{
 "cells": [
  {
   "cell_type": "code",
   "execution_count": 7,
   "metadata": {},
   "outputs": [
    {
     "ename": "ImportError",
     "evalue": "cannot import name 'metrics' from 'sklearn.metrics' (c:\\Users\\LWG\\AppData\\Local\\Programs\\Python\\Python310\\lib\\site-packages\\sklearn\\metrics\\__init__.py)",
     "output_type": "error",
     "traceback": [
      "\u001b[1;31m---------------------------------------------------------------------------\u001b[0m",
      "\u001b[1;31mImportError\u001b[0m                               Traceback (most recent call last)",
      "Cell \u001b[1;32mIn[7], line 5\u001b[0m\n\u001b[0;32m      3\u001b[0m \u001b[39mfrom\u001b[39;00m \u001b[39msklearn\u001b[39;00m\u001b[39m.\u001b[39;00m\u001b[39mmodel_selection\u001b[39;00m \u001b[39mimport\u001b[39;00m train_test_split\n\u001b[0;32m      4\u001b[0m \u001b[39mfrom\u001b[39;00m \u001b[39msklearn\u001b[39;00m \u001b[39mimport\u001b[39;00m tree\n\u001b[1;32m----> 5\u001b[0m \u001b[39mfrom\u001b[39;00m \u001b[39msklearn\u001b[39;00m\u001b[39m.\u001b[39;00m\u001b[39mmetrics\u001b[39;00m \u001b[39mimport\u001b[39;00m confusion_matrix, ConfusionMatrixDisplay, metrics\n\u001b[0;32m      6\u001b[0m \u001b[39mimport\u001b[39;00m \u001b[39mmatplotlib\u001b[39;00m\u001b[39m.\u001b[39;00m\u001b[39mpyplot\u001b[39;00m \u001b[39mas\u001b[39;00m \u001b[39mplt\u001b[39;00m\n\u001b[0;32m      7\u001b[0m df\u001b[39m=\u001b[39mpd\u001b[39m.\u001b[39mread_csv(\u001b[39m'\u001b[39m\u001b[39madult.csv\u001b[39m\u001b[39m'\u001b[39m)\n",
      "\u001b[1;31mImportError\u001b[0m: cannot import name 'metrics' from 'sklearn.metrics' (c:\\Users\\LWG\\AppData\\Local\\Programs\\Python\\Python310\\lib\\site-packages\\sklearn\\metrics\\__init__.py)"
     ]
    }
   ],
   "source": [
    "import pandas as pd\n",
    "import numpy as np\n",
    "from sklearn.model_selection import train_test_split\n",
    "from sklearn import tree\n",
    "from sklearn.metrics import confusion_matrix, ConfusionMatrixDisplay\n",
    "import sklearn.metrics as metrics\n",
    "import matplotlib.pyplot as plt\n",
    "df=pd.read_csv('adult.csv')\n",
    "#income:타켓변수(연소득)\n",
    "#1. 전처리하기\n",
    "df['income']=np.where(df['income']=='>50K','high','low')\n",
    "df=df.drop(columns='fnlwgt') #불필요한 변수 제거\n",
    "tar=df['income']\n",
    "df=df.drop(columns='income')\n",
    "df=pd.get_dummies(df) #income 제외하고 문자 타입 변수를 숫자 타입으로 변경\n",
    "df['income']=tar\n",
    "\n",
    "#데이터 분할하기\n",
    "df_train,df_test = train_test_split(df,\n",
    "                                    test_size=0.3, #테스트 세트 비율\n",
    "                                    stratify=df['income'], #타켓 변수 비율 유지\n",
    "                                    random_state=1234) #난수 고정\n",
    "\n",
    "#2. 의사결정나무 모델 만들기\n",
    "Tree = tree.DecisionTreeClassifier(random_state=1234, #난수 고정\n",
    "                                  max_depth=3) #나무 깊이\n",
    "train_x = df_train.drop(columns='income') #예측 변수\n",
    "train_y = df_train['income'] #타켓 변수\n",
    "model = Tree.fit(X=train_x, y=train_y) #모델 생성\n",
    "\n",
    "plt.rcParams.update({'figure.figsize':[13,8],\n",
    "                     'figure.dpi':'100'})\n",
    "tree.plot_tree(model,\n",
    "               feature_names=train_x.columns, #예측 변수명\n",
    "               proportion=True, #비율 표기\n",
    "               class_names=['high','low'], #타켓 변수 클래스, 알파벳순\n",
    "               filled=True, #색칠\n",
    "               rounded=True, #둥근 테두리\n",
    "               impurity=False, #불순도 표시\n",
    "               label=\"root\", #label 표시 위치\n",
    "               fontsize=10) #글자 크기\n",
    "\n",
    "test_x=df_test.drop(columns='income') #예측 변수\n",
    "test_y=df_test['income'] #타켓 변수\n",
    "df_test['pred'] = model.predict(test_x) #새 데이터의 타켓 변수값 예측\n",
    "\n",
    "conf = confusion_matrix(y_true=df_test['income'], #실제값\n",
    "                        y_pred=df_test['pred'], #예측값\n",
    "                        labels=['high','low']) #클래스 배치 순서\n",
    "#그래프 설정 초기화\n",
    "plt.rcParams.update(plt.rcParamsDefault)\n",
    "p=ConfusionMatrixDisplay(confusion_matrix=conf, #컨퓨전 매트릭스\n",
    "                         display_labels=('high','low')) #타겟 변수 클래스명\n",
    "p.plot(cmap='Blues') #컬러맵\n",
    "sklearn.metrics.accuracy_score(y_true=df_test['income'], #실제값\n",
    "                       y_pred=df_test['pred'])  #예측값\n"
   ]
  },
  {
   "cell_type": "code",
   "execution_count": null,
   "metadata": {},
   "outputs": [],
   "source": []
  }
 ],
 "metadata": {
  "kernelspec": {
   "display_name": "Python 3.10.7 64-bit",
   "language": "python",
   "name": "python3"
  },
  "language_info": {
   "codemirror_mode": {
    "name": "ipython",
    "version": 3
   },
   "file_extension": ".py",
   "mimetype": "text/x-python",
   "name": "python",
   "nbconvert_exporter": "python",
   "pygments_lexer": "ipython3",
   "version": "3.10.7"
  },
  "orig_nbformat": 4,
  "vscode": {
   "interpreter": {
    "hash": "e726dfcfd2aa7c89c8dbc4c560c1e1f3c16eb0fa359096469343a30c0228cb32"
   }
  }
 },
 "nbformat": 4,
 "nbformat_minor": 2
}
